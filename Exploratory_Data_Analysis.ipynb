{
 "cells": [
  {
   "cell_type": "code",
   "execution_count": 6,
   "metadata": {},
   "outputs": [],
   "source": [
    "import pandas as pd\n",
    "import numpy as np\n",
    "import matplotlib.pyplot as plt\n",
    "import matplotlib\n",
    "import seaborn as sns\n",
    "from datetime import datetime"
   ]
  },
  {
   "cell_type": "code",
   "execution_count": 7,
   "metadata": {},
   "outputs": [
    {
     "data": {
      "text/html": [
       "<div>\n",
       "<style scoped>\n",
       "    .dataframe tbody tr th:only-of-type {\n",
       "        vertical-align: middle;\n",
       "    }\n",
       "\n",
       "    .dataframe tbody tr th {\n",
       "        vertical-align: top;\n",
       "    }\n",
       "\n",
       "    .dataframe thead th {\n",
       "        text-align: right;\n",
       "    }\n",
       "</style>\n",
       "<table border=\"1\" class=\"dataframe\">\n",
       "  <thead>\n",
       "    <tr style=\"text-align: right;\">\n",
       "      <th></th>\n",
       "      <th>ParkName</th>\n",
       "      <th>UnitCode</th>\n",
       "      <th>ParkType</th>\n",
       "      <th>Region</th>\n",
       "      <th>State</th>\n",
       "      <th>Year</th>\n",
       "      <th>Month</th>\n",
       "      <th>RecreationVisits</th>\n",
       "      <th>NonRecreationVisits</th>\n",
       "      <th>RecreationHours</th>\n",
       "      <th>...</th>\n",
       "      <th>NonRecreationVisitsTotal</th>\n",
       "      <th>RecreationHoursTotal</th>\n",
       "      <th>NonRecreationHoursTotal</th>\n",
       "      <th>ConcessionerLodgingTotal</th>\n",
       "      <th>ConcessionerCampingTotal</th>\n",
       "      <th>TentCampersTotal</th>\n",
       "      <th>RVCampersTotal</th>\n",
       "      <th>BackcountryTotal</th>\n",
       "      <th>NonRecreationOvernightStaysTotal</th>\n",
       "      <th>MiscellaneousOvernightStaysTotal</th>\n",
       "    </tr>\n",
       "  </thead>\n",
       "  <tbody>\n",
       "    <tr>\n",
       "      <th>29934</th>\n",
       "      <td>Zion NP</td>\n",
       "      <td>ZION</td>\n",
       "      <td>National Park</td>\n",
       "      <td>Intermountain</td>\n",
       "      <td>UT</td>\n",
       "      <td>2019</td>\n",
       "      <td>8</td>\n",
       "      <td>535322</td>\n",
       "      <td>1860</td>\n",
       "      <td>3535992</td>\n",
       "      <td>...</td>\n",
       "      <td>21900</td>\n",
       "      <td>28715546</td>\n",
       "      <td>5475</td>\n",
       "      <td>82640</td>\n",
       "      <td>0</td>\n",
       "      <td>118290</td>\n",
       "      <td>78704</td>\n",
       "      <td>18320</td>\n",
       "      <td>0</td>\n",
       "      <td>21619</td>\n",
       "    </tr>\n",
       "    <tr>\n",
       "      <th>29935</th>\n",
       "      <td>Zion NP</td>\n",
       "      <td>ZION</td>\n",
       "      <td>National Park</td>\n",
       "      <td>Intermountain</td>\n",
       "      <td>UT</td>\n",
       "      <td>2019</td>\n",
       "      <td>9</td>\n",
       "      <td>497443</td>\n",
       "      <td>1800</td>\n",
       "      <td>3144084</td>\n",
       "      <td>...</td>\n",
       "      <td>21900</td>\n",
       "      <td>28715546</td>\n",
       "      <td>5475</td>\n",
       "      <td>82640</td>\n",
       "      <td>0</td>\n",
       "      <td>118290</td>\n",
       "      <td>78704</td>\n",
       "      <td>18320</td>\n",
       "      <td>0</td>\n",
       "      <td>21619</td>\n",
       "    </tr>\n",
       "    <tr>\n",
       "      <th>29936</th>\n",
       "      <td>Zion NP</td>\n",
       "      <td>ZION</td>\n",
       "      <td>National Park</td>\n",
       "      <td>Intermountain</td>\n",
       "      <td>UT</td>\n",
       "      <td>2019</td>\n",
       "      <td>10</td>\n",
       "      <td>429604</td>\n",
       "      <td>1860</td>\n",
       "      <td>2736509</td>\n",
       "      <td>...</td>\n",
       "      <td>21900</td>\n",
       "      <td>28715546</td>\n",
       "      <td>5475</td>\n",
       "      <td>82640</td>\n",
       "      <td>0</td>\n",
       "      <td>118290</td>\n",
       "      <td>78704</td>\n",
       "      <td>18320</td>\n",
       "      <td>0</td>\n",
       "      <td>21619</td>\n",
       "    </tr>\n",
       "    <tr>\n",
       "      <th>29937</th>\n",
       "      <td>Zion NP</td>\n",
       "      <td>ZION</td>\n",
       "      <td>National Park</td>\n",
       "      <td>Intermountain</td>\n",
       "      <td>UT</td>\n",
       "      <td>2019</td>\n",
       "      <td>11</td>\n",
       "      <td>230180</td>\n",
       "      <td>1800</td>\n",
       "      <td>1543130</td>\n",
       "      <td>...</td>\n",
       "      <td>21900</td>\n",
       "      <td>28715546</td>\n",
       "      <td>5475</td>\n",
       "      <td>82640</td>\n",
       "      <td>0</td>\n",
       "      <td>118290</td>\n",
       "      <td>78704</td>\n",
       "      <td>18320</td>\n",
       "      <td>0</td>\n",
       "      <td>21619</td>\n",
       "    </tr>\n",
       "    <tr>\n",
       "      <th>29938</th>\n",
       "      <td>Zion NP</td>\n",
       "      <td>ZION</td>\n",
       "      <td>National Park</td>\n",
       "      <td>Intermountain</td>\n",
       "      <td>UT</td>\n",
       "      <td>2019</td>\n",
       "      <td>12</td>\n",
       "      <td>171706</td>\n",
       "      <td>1860</td>\n",
       "      <td>1058308</td>\n",
       "      <td>...</td>\n",
       "      <td>21900</td>\n",
       "      <td>28715546</td>\n",
       "      <td>5475</td>\n",
       "      <td>82640</td>\n",
       "      <td>0</td>\n",
       "      <td>118290</td>\n",
       "      <td>78704</td>\n",
       "      <td>18320</td>\n",
       "      <td>0</td>\n",
       "      <td>21619</td>\n",
       "    </tr>\n",
       "  </tbody>\n",
       "</table>\n",
       "<p>5 rows × 35 columns</p>\n",
       "</div>"
      ],
      "text/plain": [
       "      ParkName UnitCode       ParkType          Region State  Year  Month  \\\n",
       "29934  Zion NP     ZION  National Park  Intermountain     UT  2019      8   \n",
       "29935  Zion NP     ZION  National Park  Intermountain     UT  2019      9   \n",
       "29936  Zion NP     ZION  National Park  Intermountain     UT  2019     10   \n",
       "29937  Zion NP     ZION  National Park  Intermountain     UT  2019     11   \n",
       "29938  Zion NP     ZION  National Park  Intermountain     UT  2019     12   \n",
       "\n",
       "       RecreationVisits  NonRecreationVisits  RecreationHours  ...  \\\n",
       "29934            535322                 1860          3535992  ...   \n",
       "29935            497443                 1800          3144084  ...   \n",
       "29936            429604                 1860          2736509  ...   \n",
       "29937            230180                 1800          1543130  ...   \n",
       "29938            171706                 1860          1058308  ...   \n",
       "\n",
       "       NonRecreationVisitsTotal  RecreationHoursTotal  \\\n",
       "29934                     21900              28715546   \n",
       "29935                     21900              28715546   \n",
       "29936                     21900              28715546   \n",
       "29937                     21900              28715546   \n",
       "29938                     21900              28715546   \n",
       "\n",
       "       NonRecreationHoursTotal  ConcessionerLodgingTotal  \\\n",
       "29934                     5475                     82640   \n",
       "29935                     5475                     82640   \n",
       "29936                     5475                     82640   \n",
       "29937                     5475                     82640   \n",
       "29938                     5475                     82640   \n",
       "\n",
       "       ConcessionerCampingTotal  TentCampersTotal  RVCampersTotal  \\\n",
       "29934                         0            118290           78704   \n",
       "29935                         0            118290           78704   \n",
       "29936                         0            118290           78704   \n",
       "29937                         0            118290           78704   \n",
       "29938                         0            118290           78704   \n",
       "\n",
       "       BackcountryTotal NonRecreationOvernightStaysTotal  \\\n",
       "29934             18320                                0   \n",
       "29935             18320                                0   \n",
       "29936             18320                                0   \n",
       "29937             18320                                0   \n",
       "29938             18320                                0   \n",
       "\n",
       "      MiscellaneousOvernightStaysTotal  \n",
       "29934                            21619  \n",
       "29935                            21619  \n",
       "29936                            21619  \n",
       "29937                            21619  \n",
       "29938                            21619  \n",
       "\n",
       "[5 rows x 35 columns]"
      ]
     },
     "execution_count": 7,
     "metadata": {},
     "output_type": "execute_result"
    }
   ],
   "source": [
    "NP_use = pd.read_csv('Data/National Park Public Use Statistics.csv', sep = ',', skiprows = [0,1,2], thousands=',')\n",
    "NP_use.tail()"
   ]
  },
  {
   "cell_type": "code",
   "execution_count": 8,
   "metadata": {},
   "outputs": [],
   "source": [
    "rec_visit = NP_use[['Month', 'Year','ParkName', 'ParkType', 'Region', 'State','RecreationVisits']]\n"
   ]
  },
  {
   "cell_type": "code",
   "execution_count": 9,
   "metadata": {},
   "outputs": [
    {
     "data": {
      "text/html": [
       "<div>\n",
       "<style scoped>\n",
       "    .dataframe tbody tr th:only-of-type {\n",
       "        vertical-align: middle;\n",
       "    }\n",
       "\n",
       "    .dataframe tbody tr th {\n",
       "        vertical-align: top;\n",
       "    }\n",
       "\n",
       "    .dataframe thead th {\n",
       "        text-align: right;\n",
       "    }\n",
       "</style>\n",
       "<table border=\"1\" class=\"dataframe\">\n",
       "  <thead>\n",
       "    <tr style=\"text-align: right;\">\n",
       "      <th></th>\n",
       "      <th>Month</th>\n",
       "      <th>Year</th>\n",
       "      <th>ParkName</th>\n",
       "      <th>ParkType</th>\n",
       "      <th>Region</th>\n",
       "      <th>State</th>\n",
       "      <th>RecreationVisits</th>\n",
       "    </tr>\n",
       "  </thead>\n",
       "  <tbody>\n",
       "    <tr>\n",
       "      <th>29934</th>\n",
       "      <td>8</td>\n",
       "      <td>2019</td>\n",
       "      <td>Zion NP</td>\n",
       "      <td>National Park</td>\n",
       "      <td>Intermountain</td>\n",
       "      <td>UT</td>\n",
       "      <td>535322</td>\n",
       "    </tr>\n",
       "    <tr>\n",
       "      <th>29935</th>\n",
       "      <td>9</td>\n",
       "      <td>2019</td>\n",
       "      <td>Zion NP</td>\n",
       "      <td>National Park</td>\n",
       "      <td>Intermountain</td>\n",
       "      <td>UT</td>\n",
       "      <td>497443</td>\n",
       "    </tr>\n",
       "    <tr>\n",
       "      <th>29936</th>\n",
       "      <td>10</td>\n",
       "      <td>2019</td>\n",
       "      <td>Zion NP</td>\n",
       "      <td>National Park</td>\n",
       "      <td>Intermountain</td>\n",
       "      <td>UT</td>\n",
       "      <td>429604</td>\n",
       "    </tr>\n",
       "    <tr>\n",
       "      <th>29937</th>\n",
       "      <td>11</td>\n",
       "      <td>2019</td>\n",
       "      <td>Zion NP</td>\n",
       "      <td>National Park</td>\n",
       "      <td>Intermountain</td>\n",
       "      <td>UT</td>\n",
       "      <td>230180</td>\n",
       "    </tr>\n",
       "    <tr>\n",
       "      <th>29938</th>\n",
       "      <td>12</td>\n",
       "      <td>2019</td>\n",
       "      <td>Zion NP</td>\n",
       "      <td>National Park</td>\n",
       "      <td>Intermountain</td>\n",
       "      <td>UT</td>\n",
       "      <td>171706</td>\n",
       "    </tr>\n",
       "  </tbody>\n",
       "</table>\n",
       "</div>"
      ],
      "text/plain": [
       "       Month  Year ParkName       ParkType          Region State  \\\n",
       "29934      8  2019  Zion NP  National Park  Intermountain     UT   \n",
       "29935      9  2019  Zion NP  National Park  Intermountain     UT   \n",
       "29936     10  2019  Zion NP  National Park  Intermountain     UT   \n",
       "29937     11  2019  Zion NP  National Park  Intermountain     UT   \n",
       "29938     12  2019  Zion NP  National Park  Intermountain     UT   \n",
       "\n",
       "       RecreationVisits  \n",
       "29934            535322  \n",
       "29935            497443  \n",
       "29936            429604  \n",
       "29937            230180  \n",
       "29938            171706  "
      ]
     },
     "execution_count": 9,
     "metadata": {},
     "output_type": "execute_result"
    }
   ],
   "source": [
    "rec_visit.tail()"
   ]
  },
  {
   "cell_type": "code",
   "execution_count": 10,
   "metadata": {},
   "outputs": [
    {
     "data": {
      "text/html": [
       "<div>\n",
       "<style scoped>\n",
       "    .dataframe tbody tr th:only-of-type {\n",
       "        vertical-align: middle;\n",
       "    }\n",
       "\n",
       "    .dataframe tbody tr th {\n",
       "        vertical-align: top;\n",
       "    }\n",
       "\n",
       "    .dataframe thead th {\n",
       "        text-align: right;\n",
       "    }\n",
       "</style>\n",
       "<table border=\"1\" class=\"dataframe\">\n",
       "  <thead>\n",
       "    <tr style=\"text-align: right;\">\n",
       "      <th></th>\n",
       "      <th>Month</th>\n",
       "      <th>Year</th>\n",
       "      <th>ParkName</th>\n",
       "      <th>ParkType</th>\n",
       "      <th>Region</th>\n",
       "      <th>State</th>\n",
       "      <th>RecreationVisits</th>\n",
       "    </tr>\n",
       "  </thead>\n",
       "  <tbody>\n",
       "    <tr>\n",
       "      <th>5</th>\n",
       "      <td>6</td>\n",
       "      <td>1979</td>\n",
       "      <td>Acadia NP</td>\n",
       "      <td>National Park</td>\n",
       "      <td>Northeast</td>\n",
       "      <td>ME</td>\n",
       "      <td>543205</td>\n",
       "    </tr>\n",
       "    <tr>\n",
       "      <th>19</th>\n",
       "      <td>8</td>\n",
       "      <td>1980</td>\n",
       "      <td>Acadia NP</td>\n",
       "      <td>National Park</td>\n",
       "      <td>Northeast</td>\n",
       "      <td>ME</td>\n",
       "      <td>633067</td>\n",
       "    </tr>\n",
       "    <tr>\n",
       "      <th>31</th>\n",
       "      <td>8</td>\n",
       "      <td>1981</td>\n",
       "      <td>Acadia NP</td>\n",
       "      <td>National Park</td>\n",
       "      <td>Northeast</td>\n",
       "      <td>ME</td>\n",
       "      <td>616233</td>\n",
       "    </tr>\n",
       "    <tr>\n",
       "      <th>42</th>\n",
       "      <td>7</td>\n",
       "      <td>1982</td>\n",
       "      <td>Acadia NP</td>\n",
       "      <td>National Park</td>\n",
       "      <td>Northeast</td>\n",
       "      <td>ME</td>\n",
       "      <td>737860</td>\n",
       "    </tr>\n",
       "    <tr>\n",
       "      <th>54</th>\n",
       "      <td>7</td>\n",
       "      <td>1983</td>\n",
       "      <td>Acadia NP</td>\n",
       "      <td>National Park</td>\n",
       "      <td>Northeast</td>\n",
       "      <td>ME</td>\n",
       "      <td>916474</td>\n",
       "    </tr>\n",
       "  </tbody>\n",
       "</table>\n",
       "</div>"
      ],
      "text/plain": [
       "    Month  Year   ParkName       ParkType      Region State  RecreationVisits\n",
       "5       6  1979  Acadia NP  National Park  Northeast     ME            543205\n",
       "19      8  1980  Acadia NP  National Park  Northeast     ME            633067\n",
       "31      8  1981  Acadia NP  National Park  Northeast     ME            616233\n",
       "42      7  1982  Acadia NP  National Park  Northeast     ME            737860\n",
       "54      7  1983  Acadia NP  National Park  Northeast     ME            916474"
      ]
     },
     "execution_count": 10,
     "metadata": {},
     "output_type": "execute_result"
    }
   ],
   "source": [
    "max_visit = rec_visit.loc[rec_visit.groupby([rec_visit.ParkName ,rec_visit.Year])['RecreationVisits'].idxmax()]\n",
    "max_visit.head()"
   ]
  },
  {
   "cell_type": "code",
   "execution_count": 11,
   "metadata": {},
   "outputs": [
    {
     "data": {
      "text/plain": [
       "array(['Northeast ', 'Intermountain ', 'Midwest ', 'Southeast ',\n",
       "       'Pacific West ', 'Alaska'], dtype=object)"
      ]
     },
     "execution_count": 11,
     "metadata": {},
     "output_type": "execute_result"
    }
   ],
   "source": [
    "#Trying to do something with Region and nothing is working\n",
    "rec_visit.Region.unique()"
   ]
  },
  {
   "cell_type": "code",
   "execution_count": 12,
   "metadata": {},
   "outputs": [
    {
     "name": "stderr",
     "output_type": "stream",
     "text": [
      "<ipython-input-12-d1a0248df226>:2: SettingWithCopyWarning: \n",
      "A value is trying to be set on a copy of a slice from a DataFrame.\n",
      "Try using .loc[row_indexer,col_indexer] = value instead\n",
      "\n",
      "See the caveats in the documentation: https://pandas.pydata.org/pandas-docs/stable/user_guide/indexing.html#returning-a-view-versus-a-copy\n",
      "  rec_visit['Region'] = rec_visit['Region'].str.strip()\n"
     ]
    },
    {
     "data": {
      "text/plain": [
       "array(['Northeast', 'Intermountain', 'Midwest', 'Southeast',\n",
       "       'Pacific West', 'Alaska'], dtype=object)"
      ]
     },
     "execution_count": 12,
     "metadata": {},
     "output_type": "execute_result"
    }
   ],
   "source": [
    "#Strip trailing spaces\n",
    "rec_visit['Region'] = rec_visit['Region'].str.strip()\n",
    "rec_visit['Region'].unique()"
   ]
  },
  {
   "cell_type": "code",
   "execution_count": 13,
   "metadata": {},
   "outputs": [
    {
     "data": {
      "text/plain": [
       "2015    744\n",
       "2002    744\n",
       "2007    744\n",
       "2008    744\n",
       "2019    744\n",
       "2009    744\n",
       "2003    744\n",
       "2010    744\n",
       "2018    744\n",
       "2011    744\n",
       "2012    744\n",
       "2017    744\n",
       "2013    744\n",
       "2016    744\n",
       "2014    744\n",
       "2006    744\n",
       "1986    732\n",
       "1989    732\n",
       "1987    732\n",
       "2001    732\n",
       "1985    732\n",
       "1988    732\n",
       "2000    732\n",
       "2004    732\n",
       "1992    732\n",
       "1990    732\n",
       "1991    732\n",
       "1999    732\n",
       "1993    732\n",
       "1994    732\n",
       "1995    732\n",
       "1997    732\n",
       "1998    732\n",
       "2005    731\n",
       "1996    720\n",
       "1982    720\n",
       "1983    720\n",
       "1984    720\n",
       "1979    660\n",
       "1980    660\n",
       "1981    660\n",
       "Name: Year, dtype: int64"
      ]
     },
     "execution_count": 13,
     "metadata": {},
     "output_type": "execute_result"
    }
   ],
   "source": [
    "rec_visit.Year.value_counts()"
   ]
  },
  {
   "cell_type": "code",
   "execution_count": 14,
   "metadata": {},
   "outputs": [
    {
     "data": {
      "text/html": [
       "<div>\n",
       "<style scoped>\n",
       "    .dataframe tbody tr th:only-of-type {\n",
       "        vertical-align: middle;\n",
       "    }\n",
       "\n",
       "    .dataframe tbody tr th {\n",
       "        vertical-align: top;\n",
       "    }\n",
       "\n",
       "    .dataframe thead th {\n",
       "        text-align: right;\n",
       "    }\n",
       "</style>\n",
       "<table border=\"1\" class=\"dataframe\">\n",
       "  <thead>\n",
       "    <tr style=\"text-align: right;\">\n",
       "      <th></th>\n",
       "      <th>Month</th>\n",
       "      <th>Year</th>\n",
       "      <th>ParkName</th>\n",
       "      <th>ParkType</th>\n",
       "      <th>Region</th>\n",
       "      <th>State</th>\n",
       "      <th>RecreationVisits</th>\n",
       "    </tr>\n",
       "  </thead>\n",
       "  <tbody>\n",
       "    <tr>\n",
       "      <th>127</th>\n",
       "      <td>8</td>\n",
       "      <td>1989</td>\n",
       "      <td>Acadia NP</td>\n",
       "      <td>National Park</td>\n",
       "      <td>Northeast</td>\n",
       "      <td>ME</td>\n",
       "      <td>1045060</td>\n",
       "    </tr>\n",
       "    <tr>\n",
       "      <th>977</th>\n",
       "      <td>6</td>\n",
       "      <td>2019</td>\n",
       "      <td>Arches NP</td>\n",
       "      <td>National Park</td>\n",
       "      <td>Intermountain</td>\n",
       "      <td>UT</td>\n",
       "      <td>225206</td>\n",
       "    </tr>\n",
       "    <tr>\n",
       "      <th>1134</th>\n",
       "      <td>7</td>\n",
       "      <td>1991</td>\n",
       "      <td>Badlands NP</td>\n",
       "      <td>National Park</td>\n",
       "      <td>Midwest</td>\n",
       "      <td>SD</td>\n",
       "      <td>363803</td>\n",
       "    </tr>\n",
       "    <tr>\n",
       "      <th>1958</th>\n",
       "      <td>3</td>\n",
       "      <td>2019</td>\n",
       "      <td>Big Bend NP</td>\n",
       "      <td>National Park</td>\n",
       "      <td>Intermountain</td>\n",
       "      <td>TX</td>\n",
       "      <td>83826</td>\n",
       "    </tr>\n",
       "    <tr>\n",
       "      <th>2325</th>\n",
       "      <td>10</td>\n",
       "      <td>2008</td>\n",
       "      <td>Biscayne NP</td>\n",
       "      <td>National Park</td>\n",
       "      <td>Southeast</td>\n",
       "      <td>FL</td>\n",
       "      <td>113151</td>\n",
       "    </tr>\n",
       "  </tbody>\n",
       "</table>\n",
       "</div>"
      ],
      "text/plain": [
       "      Month  Year     ParkName       ParkType         Region State  \\\n",
       "127       8  1989    Acadia NP  National Park      Northeast    ME   \n",
       "977       6  2019    Arches NP  National Park  Intermountain    UT   \n",
       "1134      7  1991  Badlands NP  National Park        Midwest    SD   \n",
       "1958      3  2019  Big Bend NP  National Park  Intermountain    TX   \n",
       "2325     10  2008  Biscayne NP  National Park      Southeast    FL   \n",
       "\n",
       "      RecreationVisits  \n",
       "127            1045060  \n",
       "977             225206  \n",
       "1134            363803  \n",
       "1958             83826  \n",
       "2325            113151  "
      ]
     },
     "execution_count": 14,
     "metadata": {},
     "output_type": "execute_result"
    }
   ],
   "source": [
    "max_ever = rec_visit.loc[rec_visit.groupby([rec_visit.ParkName])['RecreationVisits'].idxmax()]\n",
    "max_ever.head()"
   ]
  },
  {
   "cell_type": "code",
   "execution_count": 15,
   "metadata": {},
   "outputs": [
    {
     "data": {
      "image/png": "[encoded data removed]",
      "text/plain": [
       "<Figure size 432x288 with 1 Axes>"
      ]
     },
     "metadata": {
      "needs_background": "light"
     },
     "output_type": "display_data"
    }
   ],
   "source": [
    "#intermountain and pacific west may have an increase after 2015\n",
    "_ = sns.scatterplot(x= 'Year', y= 'RecreationVisits', hue= 'Region', data = max_ever)"
   ]
  },
  {
   "cell_type": "code",
   "execution_count": 16,
   "metadata": {},
   "outputs": [
    {
     "data": {
      "image/png": "[encoded data removed]",
      "text/plain": [
       "<Figure size 432x288 with 1 Axes>"
      ]
     },
     "metadata": {
      "needs_background": "light"
     },
     "output_type": "display_data"
    }
   ],
   "source": [
    "min = rec_visit.loc[rec_visit.groupby([rec_visit.ParkName])['RecreationVisits'].idxmin()]\n",
    "_ = sns.scatterplot(x= 'Year', y= 'RecreationVisits', hue= 'Region', data = min)"
   ]
  },
  {
   "cell_type": "code",
   "execution_count": 17,
   "metadata": {},
   "outputs": [
    {
     "data": {
      "image/png": "[encoded data removed]",
      "text/plain": [
       "<Figure size 432x288 with 1 Axes>"
      ]
     },
     "metadata": {
      "needs_background": "light"
     },
     "output_type": "display_data"
    }
   ],
   "source": [
    "yearly_mean_all = pd.DataFrame(rec_visit.groupby(rec_visit.Year)['RecreationVisits'].mean())\n",
    "_ = plt.plot(yearly_mean_all)"
   ]
  },
  {
   "cell_type": "code",
   "execution_count": 18,
   "metadata": {},
   "outputs": [
    {
     "data": {
      "text/html": [
       "<div>\n",
       "<style scoped>\n",
       "    .dataframe tbody tr th:only-of-type {\n",
       "        vertical-align: middle;\n",
       "    }\n",
       "\n",
       "    .dataframe tbody tr th {\n",
       "        vertical-align: top;\n",
       "    }\n",
       "\n",
       "    .dataframe thead th {\n",
       "        text-align: right;\n",
       "    }\n",
       "</style>\n",
       "<table border=\"1\" class=\"dataframe\">\n",
       "  <thead>\n",
       "    <tr style=\"text-align: right;\">\n",
       "      <th></th>\n",
       "      <th></th>\n",
       "      <th>RecreationVisits</th>\n",
       "    </tr>\n",
       "    <tr>\n",
       "      <th>ParkName</th>\n",
       "      <th>Year</th>\n",
       "      <th></th>\n",
       "    </tr>\n",
       "  </thead>\n",
       "  <tbody>\n",
       "    <tr>\n",
       "      <th rowspan=\"5\" valign=\"top\">Acadia NP</th>\n",
       "      <th>1979</th>\n",
       "      <td>232280.500000</td>\n",
       "    </tr>\n",
       "    <tr>\n",
       "      <th>1980</th>\n",
       "      <td>231638.833333</td>\n",
       "    </tr>\n",
       "    <tr>\n",
       "      <th>1981</th>\n",
       "      <td>249831.000000</td>\n",
       "    </tr>\n",
       "    <tr>\n",
       "      <th>1982</th>\n",
       "      <td>297676.166667</td>\n",
       "    </tr>\n",
       "    <tr>\n",
       "      <th>1983</th>\n",
       "      <td>343719.916667</td>\n",
       "    </tr>\n",
       "  </tbody>\n",
       "</table>\n",
       "</div>"
      ],
      "text/plain": [
       "                RecreationVisits\n",
       "ParkName  Year                  \n",
       "Acadia NP 1979     232280.500000\n",
       "          1980     231638.833333\n",
       "          1981     249831.000000\n",
       "          1982     297676.166667\n",
       "          1983     343719.916667"
      ]
     },
     "execution_count": 18,
     "metadata": {},
     "output_type": "execute_result"
    }
   ],
   "source": [
    "yearly_Park_mean = pd.DataFrame(rec_visit.groupby([rec_visit.ParkName ,rec_visit.Year])['RecreationVisits'].mean())\n",
    "yearly_Park_mean.head()"
   ]
  },
  {
   "cell_type": "code",
   "execution_count": 19,
   "metadata": {},
   "outputs": [],
   "source": [
    "# are some states NP's becoming more popular over time?  \n"
   ]
  },
  {
   "cell_type": "markdown",
   "metadata": {},
   "source": [
    "State summary"
   ]
  },
  {
   "cell_type": "code",
   "execution_count": 20,
   "metadata": {},
   "outputs": [
    {
     "data": {
      "text/plain": [
       "<AxesSubplot:xlabel='State'>"
      ]
     },
     "execution_count": 20,
     "metadata": {},
     "output_type": "execute_result"
    },
    {
     "data": {
      "image/png": "[encoded data removed]",
      "text/plain": [
       "<Figure size 432x288 with 1 Axes>"
      ]
     },
     "metadata": {
      "needs_background": "light"
     },
     "output_type": "display_data"
    }
   ],
   "source": [
    "state = pd.DataFrame(rec_visit.groupby('State')['RecreationVisits'].mean())\n",
    "state.reset_index()\n",
    "state.RecreationVisits.plot(kind = 'bar')"
   ]
  },
  {
   "cell_type": "code",
   "execution_count": 25,
   "metadata": {},
   "outputs": [
    {
     "data": {
      "text/plain": [
       "<AxesSubplot:>"
      ]
     },
     "execution_count": 25,
     "metadata": {},
     "output_type": "execute_result"
    },
    {
     "data": {
      "image/png": "[encoded data removed]",
      "text/plain": [
       "<Figure size 432x288 with 1 Axes>"
      ]
     },
     "metadata": {
      "needs_background": "light"
     },
     "output_type": "display_data"
    }
   ],
   "source": [
    "state_count = pd.DataFrame(max_ever['State'].value_counts())\n",
    "state_count.reset_index()\n",
    "state_count.State.plot(kind= 'bar')"
   ]
  },
  {
   "cell_type": "code",
   "execution_count": null,
   "metadata": {},
   "outputs": [],
   "source": []
  }
 ],
 "metadata": {
  "kernelspec": {
   "display_name": "Python 3",
   "language": "python",
   "name": "python3"
  },
  "language_info": {
   "codemirror_mode": {
    "name": "ipython",
    "version": 3
   },
   "file_extension": ".py",
   "mimetype": "text/x-python",
   "name": "python",
   "nbconvert_exporter": "python",
   "pygments_lexer": "ipython3",
   "version": "3.8.5"
  }
 },
 "nbformat": 4,
 "nbformat_minor": 4
}
