{
 "cells": [
  {
   "cell_type": "code",
   "execution_count": null,
   "metadata": {},
   "outputs": [],
   "source": []
  },
  {
   "cell_type": "code",
   "execution_count": 8,
   "metadata": {},
   "outputs": [],
   "source": [
    "import requests\n",
    "import json\n",
    "import pandas as pd\n",
    "from collections import defaultdict\n",
    "from datetime import datetime\n",
    "import matplotlib.pyplot as plt"
   ]
  },
  {
   "cell_type": "code",
   "execution_count": 4,
   "metadata": {},
   "outputs": [],
   "source": [
    "#url= 'https://developer.nps.gov/api/v1/parks?limit=500&api_key=xqFhEcLhqUvnwpBJoeG6CgNuzCioAjh9m3bgGCWH' \n",
    "#r = requests.get(url)\n",
    "#json_data = r.json()"
   ]
  },
  {
   "cell_type": "code",
   "execution_count": 6,
   "metadata": {},
   "outputs": [],
   "source": [
    "## this saved the file, I want to save this but not run it again \n",
    "#with open('NPdata.json', 'w') as json_file:\n",
    "#    json.dump(json_data, json_file)\n"
   ]
  },
  {
   "cell_type": "code",
   "execution_count": 9,
   "metadata": {},
   "outputs": [],
   "source": [
    "#with open('NPdata.json', 'r') as json_file: # this opened the file that I made\n",
    "#    json_data = json.load(json_file)\n"
   ]
  },
  {
   "cell_type": "code",
   "execution_count": 10,
   "metadata": {},
   "outputs": [
    {
     "data": {
      "text/plain": [
       "dict_keys(['total', 'limit', 'start', 'data'])"
      ]
     },
     "execution_count": 10,
     "metadata": {},
     "output_type": "execute_result"
    }
   ],
   "source": [
    "#json_data.keys()"
   ]
  },
  {
   "cell_type": "code",
   "execution_count": 11,
   "metadata": {},
   "outputs": [
    {
     "data": {
      "text/plain": [
       "'466'"
      ]
     },
     "execution_count": 11,
     "metadata": {},
     "output_type": "execute_result"
    }
   ],
   "source": [
    "#json_data['total']"
   ]
  },
  {
   "cell_type": "code",
   "execution_count": 12,
   "metadata": {},
   "outputs": [
    {
     "name": "stdout",
     "output_type": "stream",
     "text": [
      "Apostle Islands National Lakeshore\n"
     ]
    }
   ],
   "source": [
    "#print(json_data['data'][20]['fullName'])"
   ]
  },
  {
   "cell_type": "code",
   "execution_count": 13,
   "metadata": {},
   "outputs": [
    {
     "name": "stdout",
     "output_type": "stream",
     "text": [
      "dict_keys(['id', 'url', 'fullName', 'parkCode', 'description', 'latitude', 'longitude', 'latLong', 'activities', 'topics', 'states', 'contacts', 'entranceFees', 'entrancePasses', 'fees', 'directionsInfo', 'directionsUrl', 'operatingHours', 'addresses', 'images', 'weatherInfo', 'name', 'designation'])\n"
     ]
    }
   ],
   "source": [
    "#print(json_data['data'][0].keys())"
   ]
  },
  {
   "cell_type": "code",
   "execution_count": 14,
   "metadata": {
    "collapsed": true,
    "jupyter": {
     "outputs_hidden": true
    }
   },
   "outputs": [
    {
     "data": {
      "text/plain": [
       "[{'id': '071BA73C-1D3C-46D4-A53C-00D5602F7F0E', 'name': 'Boating'},\n",
       " {'id': 'E0E4CE55-3119-46DE-86EB-6817CD8D5F30', 'name': 'Motorized Boating'},\n",
       " {'id': 'BB0B8CD0-BF4C-4517-9980-CFE2D149C7B4', 'name': 'Sailing'},\n",
       " {'id': 'A510F02B-8938-4679-A4F9-76580BCAE9C7', 'name': 'Boat Tour'},\n",
       " {'id': 'A59947B7-3376-49B4-AD02-C0423E08C5F7', 'name': 'Camping'},\n",
       " {'id': '4A58AF13-E8FB-4530-B41A-97DF0B0C77B7', 'name': 'Backcountry Camping'},\n",
       " {'id': '907E8125-15E4-483C-8EAD-B9FA1E85C6F8',\n",
       "  'name': 'Canoe or Kayak Camping'},\n",
       " {'id': '7CFF5F03-5ECC-4F5A-8572-75D1F0976C0C', 'name': 'Group Camping'},\n",
       " {'id': 'AE42B46C-E4B7-4889-A122-08FE180371AE', 'name': 'Fishing'},\n",
       " {'id': '25FB188F-5AAD-459A-9092-28A9801709FF', 'name': 'Freshwater Fishing'},\n",
       " {'id': 'B33DC9B6-0B7D-4322-BAD7-A13A34C584A3', 'name': 'Guided Tours'},\n",
       " {'id': '5A241412-0CFB-497A-9B5F-0AB8C03CDE72', 'name': 'Boat Tour'},\n",
       " {'id': 'BFF8C027-7C8F-480B-A5F8-CD8CE490BFBA', 'name': 'Hiking'},\n",
       " {'id': '8386EEAF-985F-4DE8-9037-CCF91975AC94',\n",
       "  'name': 'Hunting and Gathering'},\n",
       " {'id': '25559F45-F162-4B8B-BEC2-B341034A2AF4', 'name': 'Hunting'},\n",
       " {'id': '4D224BCA-C127-408B-AC75-A51563C42411', 'name': 'Paddling'},\n",
       " {'id': '256543C7-4322-48B3-8978-765E89AA9431',\n",
       "  'name': 'Canoe or Kayak Camping'},\n",
       " {'id': 'F353A9ED-4A08-456E-8DEC-E61974D0FEB6', 'name': 'Kayaking'},\n",
       " {'id': 'DF4A35E0-7983-4A3E-BC47-F37B872B0F25',\n",
       "  'name': 'Junior Ranger Program'},\n",
       " {'id': '42CF4021-8524-428E-866A-D33097A4A764', 'name': 'SCUBA Diving'},\n",
       " {'id': '01D717BC-18BB-4FE4-95BA-6B13AD702038', 'name': 'Snowshoeing'},\n",
       " {'id': '587BB2D3-EC35-41B2-B3F7-A39E2B088AEE', 'name': 'Swimming'},\n",
       " {'id': '82C3230F-6F87-452C-A01B-F8458867B26A', 'name': 'Freshwater Swimming'},\n",
       " {'id': '0B685688-3405-4E2A-ABBA-E3069492EC50', 'name': 'Wildlife Watching'},\n",
       " {'id': '5A2C91D1-50EC-4B24-8BED-A2E11A1892DF', 'name': 'Birdwatching'},\n",
       " {'id': '0C0D142F-06B5-4BE1-8B44-491B90F93DEB', 'name': 'Park Film'},\n",
       " {'id': '24380E3F-AD9D-4E38-BF13-C8EEB21893E7', 'name': 'Shopping'},\n",
       " {'id': '467DC8B8-0B7D-436D-A026-80A22358F615',\n",
       "  'name': 'Bookstore and Park Store'},\n",
       " {'id': '43800AD1-D439-40F3-AAB3-9FB651FE45BB',\n",
       "  'name': 'Gift Shop and Souvenirs'}]"
      ]
     },
     "execution_count": 14,
     "metadata": {},
     "output_type": "execute_result"
    }
   ],
   "source": [
    "#json_data['data'][20]['activities']"
   ]
  },
  {
   "cell_type": "code",
   "execution_count": 31,
   "metadata": {},
   "outputs": [
    {
     "data": {
      "text/html": [
       "<div>\n",
       "<style scoped>\n",
       "    .dataframe tbody tr th:only-of-type {\n",
       "        vertical-align: middle;\n",
       "    }\n",
       "\n",
       "    .dataframe tbody tr th {\n",
       "        vertical-align: top;\n",
       "    }\n",
       "\n",
       "    .dataframe thead th {\n",
       "        text-align: right;\n",
       "    }\n",
       "</style>\n",
       "<table border=\"1\" class=\"dataframe\">\n",
       "  <thead>\n",
       "    <tr style=\"text-align: right;\">\n",
       "      <th></th>\n",
       "      <th>id</th>\n",
       "      <th>observed_on_string</th>\n",
       "      <th>observed_on</th>\n",
       "      <th>time_observed_at</th>\n",
       "      <th>time_zone</th>\n",
       "      <th>quality_grade</th>\n",
       "      <th>description</th>\n",
       "      <th>place_guess</th>\n",
       "      <th>latitude</th>\n",
       "      <th>longitude</th>\n",
       "      <th>place_town_name</th>\n",
       "      <th>place_county_name</th>\n",
       "      <th>place_state_name</th>\n",
       "      <th>place_country_name</th>\n",
       "      <th>species_guess</th>\n",
       "      <th>scientific_name</th>\n",
       "      <th>common_name</th>\n",
       "      <th>iconic_taxon_name</th>\n",
       "      <th>taxon_id</th>\n",
       "    </tr>\n",
       "  </thead>\n",
       "  <tbody>\n",
       "    <tr>\n",
       "      <th>0</th>\n",
       "      <td>2248</td>\n",
       "      <td>2008-08-08</td>\n",
       "      <td>2008-08-08</td>\n",
       "      <td>NaN</td>\n",
       "      <td>Central Time (US &amp; Canada)</td>\n",
       "      <td>research</td>\n",
       "      <td>NaN</td>\n",
       "      <td>Yellowstone National Park, Park County, US-WY, US</td>\n",
       "      <td>44.811585</td>\n",
       "      <td>-110.481333</td>\n",
       "      <td>NaN</td>\n",
       "      <td>Park</td>\n",
       "      <td>Wyoming</td>\n",
       "      <td>United States</td>\n",
       "      <td>Bison Américain</td>\n",
       "      <td>Bison bison</td>\n",
       "      <td>American Bison</td>\n",
       "      <td>Mammalia</td>\n",
       "      <td>42408</td>\n",
       "    </tr>\n",
       "    <tr>\n",
       "      <th>1</th>\n",
       "      <td>2690</td>\n",
       "      <td>2009-05-14</td>\n",
       "      <td>2009-05-14</td>\n",
       "      <td>NaN</td>\n",
       "      <td>Central Time (US &amp; Canada)</td>\n",
       "      <td>research</td>\n",
       "      <td>NaN</td>\n",
       "      <td>Everglades National Park, Monroe County, US-FL...</td>\n",
       "      <td>25.153938</td>\n",
       "      <td>-80.851790</td>\n",
       "      <td>NaN</td>\n",
       "      <td>Monroe</td>\n",
       "      <td>Florida</td>\n",
       "      <td>United States</td>\n",
       "      <td>West Indian Manatee</td>\n",
       "      <td>Trichechus manatus</td>\n",
       "      <td>West Indian Manatee</td>\n",
       "      <td>Mammalia</td>\n",
       "      <td>46316</td>\n",
       "    </tr>\n",
       "  </tbody>\n",
       "</table>\n",
       "</div>"
      ],
      "text/plain": [
       "     id observed_on_string observed_on time_observed_at  \\\n",
       "0  2248         2008-08-08  2008-08-08              NaN   \n",
       "1  2690         2009-05-14  2009-05-14              NaN   \n",
       "\n",
       "                    time_zone quality_grade description  \\\n",
       "0  Central Time (US & Canada)      research         NaN   \n",
       "1  Central Time (US & Canada)      research         NaN   \n",
       "\n",
       "                                         place_guess   latitude   longitude  \\\n",
       "0  Yellowstone National Park, Park County, US-WY, US  44.811585 -110.481333   \n",
       "1  Everglades National Park, Monroe County, US-FL...  25.153938  -80.851790   \n",
       "\n",
       "  place_town_name place_county_name place_state_name place_country_name  \\\n",
       "0             NaN              Park          Wyoming      United States   \n",
       "1             NaN            Monroe          Florida      United States   \n",
       "\n",
       "         species_guess     scientific_name          common_name  \\\n",
       "0      Bison Américain         Bison bison       American Bison   \n",
       "1  West Indian Manatee  Trichechus manatus  West Indian Manatee   \n",
       "\n",
       "  iconic_taxon_name  taxon_id  \n",
       "0          Mammalia     42408  \n",
       "1          Mammalia     46316  "
      ]
     },
     "execution_count": 31,
     "metadata": {},
     "output_type": "execute_result"
    }
   ],
   "source": [
    "observations = pd.read_csv('observations-141356.csv', parse_dates = [2])\n",
    "observations.head(2)"
   ]
  },
  {
   "cell_type": "code",
   "execution_count": 32,
   "metadata": {},
   "outputs": [
    {
     "name": "stdout",
     "output_type": "stream",
     "text": [
      "<class 'pandas.core.frame.DataFrame'>\n",
      "RangeIndex: 16587 entries, 0 to 16586\n",
      "Data columns (total 10 columns):\n",
      " #   Column              Non-Null Count  Dtype         \n",
      "---  ------              --------------  -----         \n",
      " 0   observed_on         16587 non-null  datetime64[ns]\n",
      " 1   place_guess         16587 non-null  object        \n",
      " 2   latitude            16586 non-null  float64       \n",
      " 3   longitude           16586 non-null  float64       \n",
      " 4   place_county_name   16556 non-null  object        \n",
      " 5   place_state_name    16583 non-null  object        \n",
      " 6   place_country_name  16571 non-null  object        \n",
      " 7   scientific_name     16587 non-null  object        \n",
      " 8   common_name         16568 non-null  object        \n",
      " 9   iconic_taxon_name   16587 non-null  object        \n",
      "dtypes: datetime64[ns](1), float64(2), object(7)\n",
      "memory usage: 1.3+ MB\n"
     ]
    }
   ],
   "source": [
    "observation = observations.drop(['id', 'observed_on_string', 'time_observed_at', 'time_zone', 'quality_grade','description', 'place_town_name','species_guess','taxon_id' ], axis= 1)\n",
    "observation.info()"
   ]
  },
  {
   "cell_type": "code",
   "execution_count": 33,
   "metadata": {},
   "outputs": [
    {
     "data": {
      "text/plain": [
       "array(['United States', nan, 'Argentina'], dtype=object)"
      ]
     },
     "execution_count": 33,
     "metadata": {},
     "output_type": "execute_result"
    }
   ],
   "source": [
    "observation['place_country_name'].unique()"
   ]
  },
  {
   "cell_type": "code",
   "execution_count": 34,
   "metadata": {},
   "outputs": [
    {
     "name": "stdout",
     "output_type": "stream",
     "text": [
      "['Virgin Islands National Park, Cruz Bay, VI, US'\n",
      " 'Channel Islands National Park, Channel Islands, US-CA, US'\n",
      " 'Virgin Islands National Park, St John, VI, US'\n",
      " 'Virgin Islands National Park, Coral Bay, VI, US'\n",
      " 'Channel Islands National Park, Channel Islands, Santa Barbara County, US-CA, US'\n",
      " 'Sequoia and Kings Canyon National Parks, US-CA, US'\n",
      " 'Virgin Islands National Park, St. John, United States Virgin Islands, US'\n",
      " 'Jaime Benitez National Park, San Juan, PR, US']\n"
     ]
    }
   ],
   "source": [
    "print(observation[observation['place_country_name'].isnull()]['place_guess'].unique())"
   ]
  },
  {
   "cell_type": "code",
   "execution_count": 35,
   "metadata": {},
   "outputs": [
    {
     "name": "stdout",
     "output_type": "stream",
     "text": [
      "      observed_on                                        place_guess  \\\n",
      "6518   2010-08-06  Tierra del Fuego National Park, AR-TF-US, AR-T...   \n",
      "6587   2019-04-28  Tierra del Fuego National Park, AR-TF-US, AR-T...   \n",
      "6588   2019-04-28  Tierra del Fuego National Park, AR-TF-US, AR-T...   \n",
      "12781  2020-07-18  Tierra del Fuego National Park, AR-TF-US, AR-T...   \n",
      "\n",
      "        latitude  longitude place_county_name  place_state_name  \\\n",
      "6518  -54.850688 -68.589061           Ushuaia  Tierra del Fuego   \n",
      "6587  -54.859342 -68.565695           Ushuaia  Tierra del Fuego   \n",
      "6588  -54.859322 -68.564183           Ushuaia  Tierra del Fuego   \n",
      "12781 -54.808661 -68.595557           Ushuaia  Tierra del Fuego   \n",
      "\n",
      "      place_country_name              scientific_name        common_name  \\\n",
      "6518           Argentina  Lycalopex culpaeus lycoides     Fuegian Culpeo   \n",
      "6587           Argentina            Castor canadensis    American Beaver   \n",
      "6588           Argentina            Castor canadensis    American Beaver   \n",
      "12781          Argentina           Abrothrix olivacea  Olive Grass Mouse   \n",
      "\n",
      "      iconic_taxon_name  \n",
      "6518           Mammalia  \n",
      "6587           Mammalia  \n",
      "6588           Mammalia  \n",
      "12781          Mammalia  \n"
     ]
    }
   ],
   "source": [
    "print(observation[observation['place_country_name']== 'Argentina'])"
   ]
  },
  {
   "cell_type": "code",
   "execution_count": 36,
   "metadata": {},
   "outputs": [],
   "source": [
    "observation = observation.drop(observation[observation['place_country_name']== 'Argentina'].index)"
   ]
  },
  {
   "cell_type": "code",
   "execution_count": 37,
   "metadata": {
    "collapsed": true,
    "jupyter": {
     "outputs_hidden": true
    }
   },
   "outputs": [
    {
     "data": {
      "text/html": [
       "<div>\n",
       "<style scoped>\n",
       "    .dataframe tbody tr th:only-of-type {\n",
       "        vertical-align: middle;\n",
       "    }\n",
       "\n",
       "    .dataframe tbody tr th {\n",
       "        vertical-align: top;\n",
       "    }\n",
       "\n",
       "    .dataframe thead th {\n",
       "        text-align: right;\n",
       "    }\n",
       "</style>\n",
       "<table border=\"1\" class=\"dataframe\">\n",
       "  <thead>\n",
       "    <tr style=\"text-align: right;\">\n",
       "      <th></th>\n",
       "      <th>observed_on</th>\n",
       "      <th>place_guess</th>\n",
       "      <th>latitude</th>\n",
       "      <th>longitude</th>\n",
       "      <th>place_county_name</th>\n",
       "      <th>place_state_name</th>\n",
       "      <th>place_country_name</th>\n",
       "      <th>scientific_name</th>\n",
       "      <th>common_name</th>\n",
       "      <th>iconic_taxon_name</th>\n",
       "    </tr>\n",
       "  </thead>\n",
       "  <tbody>\n",
       "    <tr>\n",
       "      <th>0</th>\n",
       "      <td>2008-08-08</td>\n",
       "      <td>Yellowstone National Park, Park County, US-WY, US</td>\n",
       "      <td>44.811585</td>\n",
       "      <td>-110.481333</td>\n",
       "      <td>Park</td>\n",
       "      <td>Wyoming</td>\n",
       "      <td>United States</td>\n",
       "      <td>Bison bison</td>\n",
       "      <td>American Bison</td>\n",
       "      <td>Mammalia</td>\n",
       "    </tr>\n",
       "    <tr>\n",
       "      <th>1</th>\n",
       "      <td>2009-05-14</td>\n",
       "      <td>Everglades National Park, Monroe County, US-FL...</td>\n",
       "      <td>25.153938</td>\n",
       "      <td>-80.851790</td>\n",
       "      <td>Monroe</td>\n",
       "      <td>Florida</td>\n",
       "      <td>United States</td>\n",
       "      <td>Trichechus manatus</td>\n",
       "      <td>West Indian Manatee</td>\n",
       "      <td>Mammalia</td>\n",
       "    </tr>\n",
       "    <tr>\n",
       "      <th>2</th>\n",
       "      <td>2009-06-08</td>\n",
       "      <td>Kings Canyon/Sequoia National Park, NV, US</td>\n",
       "      <td>36.489655</td>\n",
       "      <td>-118.779289</td>\n",
       "      <td>Tulare</td>\n",
       "      <td>California</td>\n",
       "      <td>United States</td>\n",
       "      <td>Odocoileus hemionus californicus</td>\n",
       "      <td>California Mule Deer</td>\n",
       "      <td>Mammalia</td>\n",
       "    </tr>\n",
       "    <tr>\n",
       "      <th>3</th>\n",
       "      <td>2009-06-08</td>\n",
       "      <td>Kings Canyon/Sequoia National Park, NV, US</td>\n",
       "      <td>36.520012</td>\n",
       "      <td>-118.795425</td>\n",
       "      <td>Tulare</td>\n",
       "      <td>California</td>\n",
       "      <td>United States</td>\n",
       "      <td>Otospermophilus beecheyi</td>\n",
       "      <td>California Ground Squirrel</td>\n",
       "      <td>Mammalia</td>\n",
       "    </tr>\n",
       "    <tr>\n",
       "      <th>4</th>\n",
       "      <td>2010-04-11</td>\n",
       "      <td>Kings Canyon/Sequoia National Park, NV, US</td>\n",
       "      <td>36.524426</td>\n",
       "      <td>-118.751480</td>\n",
       "      <td>Tulare</td>\n",
       "      <td>California</td>\n",
       "      <td>United States</td>\n",
       "      <td>Otospermophilus beecheyi</td>\n",
       "      <td>California Ground Squirrel</td>\n",
       "      <td>Mammalia</td>\n",
       "    </tr>\n",
       "  </tbody>\n",
       "</table>\n",
       "</div>"
      ],
      "text/plain": [
       "  observed_on                                        place_guess   latitude  \\\n",
       "0  2008-08-08  Yellowstone National Park, Park County, US-WY, US  44.811585   \n",
       "1  2009-05-14  Everglades National Park, Monroe County, US-FL...  25.153938   \n",
       "2  2009-06-08         Kings Canyon/Sequoia National Park, NV, US  36.489655   \n",
       "3  2009-06-08         Kings Canyon/Sequoia National Park, NV, US  36.520012   \n",
       "4  2010-04-11         Kings Canyon/Sequoia National Park, NV, US  36.524426   \n",
       "\n",
       "    longitude place_county_name place_state_name place_country_name  \\\n",
       "0 -110.481333              Park          Wyoming      United States   \n",
       "1  -80.851790            Monroe          Florida      United States   \n",
       "2 -118.779289            Tulare       California      United States   \n",
       "3 -118.795425            Tulare       California      United States   \n",
       "4 -118.751480            Tulare       California      United States   \n",
       "\n",
       "                    scientific_name                 common_name  \\\n",
       "0                       Bison bison              American Bison   \n",
       "1                Trichechus manatus         West Indian Manatee   \n",
       "2  Odocoileus hemionus californicus        California Mule Deer   \n",
       "3          Otospermophilus beecheyi  California Ground Squirrel   \n",
       "4          Otospermophilus beecheyi  California Ground Squirrel   \n",
       "\n",
       "  iconic_taxon_name  \n",
       "0          Mammalia  \n",
       "1          Mammalia  \n",
       "2          Mammalia  \n",
       "3          Mammalia  \n",
       "4          Mammalia  "
      ]
     },
     "execution_count": 37,
     "metadata": {},
     "output_type": "execute_result"
    }
   ],
   "source": [
    "observation.head()"
   ]
  },
  {
   "cell_type": "code",
   "execution_count": 38,
   "metadata": {},
   "outputs": [],
   "source": [
    "parks = pd.read_csv('parks_unique.csv')"
   ]
  },
  {
   "cell_type": "code",
   "execution_count": 39,
   "metadata": {},
   "outputs": [
    {
     "data": {
      "text/html": [
       "<div>\n",
       "<style scoped>\n",
       "    .dataframe tbody tr th:only-of-type {\n",
       "        vertical-align: middle;\n",
       "    }\n",
       "\n",
       "    .dataframe tbody tr th {\n",
       "        vertical-align: top;\n",
       "    }\n",
       "\n",
       "    .dataframe thead th {\n",
       "        text-align: right;\n",
       "    }\n",
       "</style>\n",
       "<table border=\"1\" class=\"dataframe\">\n",
       "  <thead>\n",
       "    <tr style=\"text-align: right;\">\n",
       "      <th></th>\n",
       "      <th>Unnamed: 0</th>\n",
       "      <th>0</th>\n",
       "    </tr>\n",
       "  </thead>\n",
       "  <tbody>\n",
       "    <tr>\n",
       "      <th>0</th>\n",
       "      <td>0</td>\n",
       "      <td>Acadia</td>\n",
       "    </tr>\n",
       "    <tr>\n",
       "      <th>1</th>\n",
       "      <td>1</td>\n",
       "      <td>Arches</td>\n",
       "    </tr>\n",
       "    <tr>\n",
       "      <th>2</th>\n",
       "      <td>2</td>\n",
       "      <td>Badlands</td>\n",
       "    </tr>\n",
       "    <tr>\n",
       "      <th>3</th>\n",
       "      <td>3</td>\n",
       "      <td>Big Bend</td>\n",
       "    </tr>\n",
       "    <tr>\n",
       "      <th>4</th>\n",
       "      <td>4</td>\n",
       "      <td>Biscayne</td>\n",
       "    </tr>\n",
       "  </tbody>\n",
       "</table>\n",
       "</div>"
      ],
      "text/plain": [
       "   Unnamed: 0          0\n",
       "0           0    Acadia \n",
       "1           1    Arches \n",
       "2           2  Badlands \n",
       "3           3  Big Bend \n",
       "4           4  Biscayne "
      ]
     },
     "execution_count": 39,
     "metadata": {},
     "output_type": "execute_result"
    }
   ],
   "source": [
    "parks.head()"
   ]
  },
  {
   "cell_type": "code",
   "execution_count": 40,
   "metadata": {},
   "outputs": [
    {
     "data": {
      "text/html": [
       "<div>\n",
       "<style scoped>\n",
       "    .dataframe tbody tr th:only-of-type {\n",
       "        vertical-align: middle;\n",
       "    }\n",
       "\n",
       "    .dataframe tbody tr th {\n",
       "        vertical-align: top;\n",
       "    }\n",
       "\n",
       "    .dataframe thead th {\n",
       "        text-align: right;\n",
       "    }\n",
       "</style>\n",
       "<table border=\"1\" class=\"dataframe\">\n",
       "  <thead>\n",
       "    <tr style=\"text-align: right;\">\n",
       "      <th></th>\n",
       "      <th>0</th>\n",
       "    </tr>\n",
       "  </thead>\n",
       "  <tbody>\n",
       "    <tr>\n",
       "      <th>0</th>\n",
       "      <td>Acadia</td>\n",
       "    </tr>\n",
       "    <tr>\n",
       "      <th>1</th>\n",
       "      <td>Arches</td>\n",
       "    </tr>\n",
       "    <tr>\n",
       "      <th>2</th>\n",
       "      <td>Badlands</td>\n",
       "    </tr>\n",
       "    <tr>\n",
       "      <th>3</th>\n",
       "      <td>Big Bend</td>\n",
       "    </tr>\n",
       "    <tr>\n",
       "      <th>4</th>\n",
       "      <td>Biscayne</td>\n",
       "    </tr>\n",
       "  </tbody>\n",
       "</table>\n",
       "</div>"
      ],
      "text/plain": [
       "           0\n",
       "0    Acadia \n",
       "1    Arches \n",
       "2  Badlands \n",
       "3  Big Bend \n",
       "4  Biscayne "
      ]
     },
     "execution_count": 40,
     "metadata": {},
     "output_type": "execute_result"
    }
   ],
   "source": [
    "parks = parks.drop('Unnamed: 0', axis = 1)\n",
    "parks.head()"
   ]
  },
  {
   "cell_type": "code",
   "execution_count": 41,
   "metadata": {},
   "outputs": [],
   "source": [
    "parks.rename(columns={'0':'park'}, inplace = True)"
   ]
  },
  {
   "cell_type": "code",
   "execution_count": 42,
   "metadata": {},
   "outputs": [
    {
     "data": {
      "text/html": [
       "<div>\n",
       "<style scoped>\n",
       "    .dataframe tbody tr th:only-of-type {\n",
       "        vertical-align: middle;\n",
       "    }\n",
       "\n",
       "    .dataframe tbody tr th {\n",
       "        vertical-align: top;\n",
       "    }\n",
       "\n",
       "    .dataframe thead th {\n",
       "        text-align: right;\n",
       "    }\n",
       "</style>\n",
       "<table border=\"1\" class=\"dataframe\">\n",
       "  <thead>\n",
       "    <tr style=\"text-align: right;\">\n",
       "      <th></th>\n",
       "      <th>park</th>\n",
       "    </tr>\n",
       "  </thead>\n",
       "  <tbody>\n",
       "    <tr>\n",
       "      <th>0</th>\n",
       "      <td>Acadia</td>\n",
       "    </tr>\n",
       "    <tr>\n",
       "      <th>1</th>\n",
       "      <td>Arches</td>\n",
       "    </tr>\n",
       "    <tr>\n",
       "      <th>2</th>\n",
       "      <td>Badlands</td>\n",
       "    </tr>\n",
       "    <tr>\n",
       "      <th>3</th>\n",
       "      <td>Big Bend</td>\n",
       "    </tr>\n",
       "    <tr>\n",
       "      <th>4</th>\n",
       "      <td>Biscayne</td>\n",
       "    </tr>\n",
       "  </tbody>\n",
       "</table>\n",
       "</div>"
      ],
      "text/plain": [
       "        park\n",
       "0    Acadia \n",
       "1    Arches \n",
       "2  Badlands \n",
       "3  Big Bend \n",
       "4  Biscayne "
      ]
     },
     "execution_count": 42,
     "metadata": {},
     "output_type": "execute_result"
    }
   ],
   "source": [
    "parks.head()"
   ]
  },
  {
   "cell_type": "code",
   "execution_count": 43,
   "metadata": {},
   "outputs": [],
   "source": [
    "#this is from stackoverflow I'm not understanding how to make it work\n",
    "#df1[ df1['movie'].apply(lambda title: df2['FILM'].str.contains(title)).any(1) ]\n",
    "#parks[parks['park'].apply(lambda park: observation['place_guess'].str.contains(park)).any(1) ]"
   ]
  },
  {
   "cell_type": "code",
   "execution_count": 43,
   "metadata": {},
   "outputs": [
    {
     "data": {
      "text/html": [
       "<div>\n",
       "<style scoped>\n",
       "    .dataframe tbody tr th:only-of-type {\n",
       "        vertical-align: middle;\n",
       "    }\n",
       "\n",
       "    .dataframe tbody tr th {\n",
       "        vertical-align: top;\n",
       "    }\n",
       "\n",
       "    .dataframe thead th {\n",
       "        text-align: right;\n",
       "    }\n",
       "</style>\n",
       "<table border=\"1\" class=\"dataframe\">\n",
       "  <thead>\n",
       "    <tr style=\"text-align: right;\">\n",
       "      <th></th>\n",
       "      <th>observed_on</th>\n",
       "      <th>place_guess</th>\n",
       "      <th>latitude</th>\n",
       "      <th>longitude</th>\n",
       "      <th>place_county_name</th>\n",
       "      <th>place_state_name</th>\n",
       "      <th>place_country_name</th>\n",
       "      <th>scientific_name</th>\n",
       "      <th>common_name</th>\n",
       "      <th>iconic_taxon_name</th>\n",
       "    </tr>\n",
       "  </thead>\n",
       "  <tbody>\n",
       "    <tr>\n",
       "      <th>0</th>\n",
       "      <td>2008-08-08</td>\n",
       "      <td>Yellowstone National Park, Park County, US-WY, US</td>\n",
       "      <td>44.811585</td>\n",
       "      <td>-110.481333</td>\n",
       "      <td>Park</td>\n",
       "      <td>Wyoming</td>\n",
       "      <td>United States</td>\n",
       "      <td>Bison bison</td>\n",
       "      <td>American Bison</td>\n",
       "      <td>Mammalia</td>\n",
       "    </tr>\n",
       "    <tr>\n",
       "      <th>1</th>\n",
       "      <td>2009-05-14</td>\n",
       "      <td>Everglades National Park, Monroe County, US-FL...</td>\n",
       "      <td>25.153938</td>\n",
       "      <td>-80.851790</td>\n",
       "      <td>Monroe</td>\n",
       "      <td>Florida</td>\n",
       "      <td>United States</td>\n",
       "      <td>Trichechus manatus</td>\n",
       "      <td>West Indian Manatee</td>\n",
       "      <td>Mammalia</td>\n",
       "    </tr>\n",
       "    <tr>\n",
       "      <th>2</th>\n",
       "      <td>2009-06-08</td>\n",
       "      <td>Kings Canyon/Sequoia National Park, NV, US</td>\n",
       "      <td>36.489655</td>\n",
       "      <td>-118.779289</td>\n",
       "      <td>Tulare</td>\n",
       "      <td>California</td>\n",
       "      <td>United States</td>\n",
       "      <td>Odocoileus hemionus californicus</td>\n",
       "      <td>California Mule Deer</td>\n",
       "      <td>Mammalia</td>\n",
       "    </tr>\n",
       "    <tr>\n",
       "      <th>3</th>\n",
       "      <td>2009-06-08</td>\n",
       "      <td>Kings Canyon/Sequoia National Park, NV, US</td>\n",
       "      <td>36.520012</td>\n",
       "      <td>-118.795425</td>\n",
       "      <td>Tulare</td>\n",
       "      <td>California</td>\n",
       "      <td>United States</td>\n",
       "      <td>Otospermophilus beecheyi</td>\n",
       "      <td>California Ground Squirrel</td>\n",
       "      <td>Mammalia</td>\n",
       "    </tr>\n",
       "    <tr>\n",
       "      <th>4</th>\n",
       "      <td>2010-04-11</td>\n",
       "      <td>Kings Canyon/Sequoia National Park, NV, US</td>\n",
       "      <td>36.524426</td>\n",
       "      <td>-118.751480</td>\n",
       "      <td>Tulare</td>\n",
       "      <td>California</td>\n",
       "      <td>United States</td>\n",
       "      <td>Otospermophilus beecheyi</td>\n",
       "      <td>California Ground Squirrel</td>\n",
       "      <td>Mammalia</td>\n",
       "    </tr>\n",
       "  </tbody>\n",
       "</table>\n",
       "</div>"
      ],
      "text/plain": [
       "  observed_on                                        place_guess   latitude  \\\n",
       "0  2008-08-08  Yellowstone National Park, Park County, US-WY, US  44.811585   \n",
       "1  2009-05-14  Everglades National Park, Monroe County, US-FL...  25.153938   \n",
       "2  2009-06-08         Kings Canyon/Sequoia National Park, NV, US  36.489655   \n",
       "3  2009-06-08         Kings Canyon/Sequoia National Park, NV, US  36.520012   \n",
       "4  2010-04-11         Kings Canyon/Sequoia National Park, NV, US  36.524426   \n",
       "\n",
       "    longitude place_county_name place_state_name place_country_name  \\\n",
       "0 -110.481333              Park          Wyoming      United States   \n",
       "1  -80.851790            Monroe          Florida      United States   \n",
       "2 -118.779289            Tulare       California      United States   \n",
       "3 -118.795425            Tulare       California      United States   \n",
       "4 -118.751480            Tulare       California      United States   \n",
       "\n",
       "                    scientific_name                 common_name  \\\n",
       "0                       Bison bison              American Bison   \n",
       "1                Trichechus manatus         West Indian Manatee   \n",
       "2  Odocoileus hemionus californicus        California Mule Deer   \n",
       "3          Otospermophilus beecheyi  California Ground Squirrel   \n",
       "4          Otospermophilus beecheyi  California Ground Squirrel   \n",
       "\n",
       "  iconic_taxon_name  \n",
       "0          Mammalia  \n",
       "1          Mammalia  \n",
       "2          Mammalia  \n",
       "3          Mammalia  \n",
       "4          Mammalia  "
      ]
     },
     "execution_count": 43,
     "metadata": {},
     "output_type": "execute_result"
    }
   ],
   "source": [
    "observation.head()"
   ]
  },
  {
   "cell_type": "code",
   "execution_count": 44,
   "metadata": {},
   "outputs": [],
   "source": [
    "#this is not working and it takes forever. there has to be a better way .contains()? list comprehension?\n",
    "from fuzzywuzzy import process\n",
    "for park in parks['park']:\n",
    "    matches = process.extract(park, observation['place_guess'], limit = observation.shape[0])\n",
    "    for potential_match in matches:\n",
    "        if potential_match[1] >= 80:\n",
    "            observation.loc[observation['place_guess'] == potential_match[0], 'place_guess'] = park"
   ]
  },
  {
   "cell_type": "code",
   "execution_count": 30,
   "metadata": {},
   "outputs": [
    {
     "data": {
      "text/html": [
       "<div>\n",
       "<style scoped>\n",
       "    .dataframe tbody tr th:only-of-type {\n",
       "        vertical-align: middle;\n",
       "    }\n",
       "\n",
       "    .dataframe tbody tr th {\n",
       "        vertical-align: top;\n",
       "    }\n",
       "\n",
       "    .dataframe thead th {\n",
       "        text-align: right;\n",
       "    }\n",
       "</style>\n",
       "<table border=\"1\" class=\"dataframe\">\n",
       "  <thead>\n",
       "    <tr style=\"text-align: right;\">\n",
       "      <th></th>\n",
       "      <th>observed_on</th>\n",
       "      <th>place_guess</th>\n",
       "      <th>latitude</th>\n",
       "      <th>longitude</th>\n",
       "      <th>place_county_name</th>\n",
       "      <th>place_state_name</th>\n",
       "      <th>place_country_name</th>\n",
       "      <th>scientific_name</th>\n",
       "      <th>common_name</th>\n",
       "      <th>iconic_taxon_name</th>\n",
       "    </tr>\n",
       "  </thead>\n",
       "  <tbody>\n",
       "    <tr>\n",
       "      <th>0</th>\n",
       "      <td>2008-08-08</td>\n",
       "      <td>Gateway Arch</td>\n",
       "      <td>44.811585</td>\n",
       "      <td>-110.481333</td>\n",
       "      <td>Park</td>\n",
       "      <td>Wyoming</td>\n",
       "      <td>United States</td>\n",
       "      <td>Bison bison</td>\n",
       "      <td>American Bison</td>\n",
       "      <td>Mammalia</td>\n",
       "    </tr>\n",
       "    <tr>\n",
       "      <th>1</th>\n",
       "      <td>2009-05-14</td>\n",
       "      <td>Mesa Verde</td>\n",
       "      <td>25.153938</td>\n",
       "      <td>-80.851790</td>\n",
       "      <td>Monroe</td>\n",
       "      <td>Florida</td>\n",
       "      <td>United States</td>\n",
       "      <td>Trichechus manatus</td>\n",
       "      <td>West Indian Manatee</td>\n",
       "      <td>Mammalia</td>\n",
       "    </tr>\n",
       "    <tr>\n",
       "      <th>2</th>\n",
       "      <td>2009-06-08</td>\n",
       "      <td>Kings Canyon</td>\n",
       "      <td>36.489655</td>\n",
       "      <td>-118.779289</td>\n",
       "      <td>Tulare</td>\n",
       "      <td>California</td>\n",
       "      <td>United States</td>\n",
       "      <td>Odocoileus hemionus californicus</td>\n",
       "      <td>California Mule Deer</td>\n",
       "      <td>Mammalia</td>\n",
       "    </tr>\n",
       "    <tr>\n",
       "      <th>3</th>\n",
       "      <td>2009-06-08</td>\n",
       "      <td>Kings Canyon</td>\n",
       "      <td>36.520012</td>\n",
       "      <td>-118.795425</td>\n",
       "      <td>Tulare</td>\n",
       "      <td>California</td>\n",
       "      <td>United States</td>\n",
       "      <td>Otospermophilus beecheyi</td>\n",
       "      <td>California Ground Squirrel</td>\n",
       "      <td>Mammalia</td>\n",
       "    </tr>\n",
       "    <tr>\n",
       "      <th>4</th>\n",
       "      <td>2010-04-11</td>\n",
       "      <td>Kings Canyon</td>\n",
       "      <td>36.524426</td>\n",
       "      <td>-118.751480</td>\n",
       "      <td>Tulare</td>\n",
       "      <td>California</td>\n",
       "      <td>United States</td>\n",
       "      <td>Otospermophilus beecheyi</td>\n",
       "      <td>California Ground Squirrel</td>\n",
       "      <td>Mammalia</td>\n",
       "    </tr>\n",
       "  </tbody>\n",
       "</table>\n",
       "</div>"
      ],
      "text/plain": [
       "  observed_on    place_guess   latitude   longitude place_county_name  \\\n",
       "0  2008-08-08  Gateway Arch   44.811585 -110.481333              Park   \n",
       "1  2009-05-14    Mesa Verde   25.153938  -80.851790            Monroe   \n",
       "2  2009-06-08  Kings Canyon   36.489655 -118.779289            Tulare   \n",
       "3  2009-06-08  Kings Canyon   36.520012 -118.795425            Tulare   \n",
       "4  2010-04-11  Kings Canyon   36.524426 -118.751480            Tulare   \n",
       "\n",
       "  place_state_name place_country_name                   scientific_name  \\\n",
       "0          Wyoming      United States                       Bison bison   \n",
       "1          Florida      United States                Trichechus manatus   \n",
       "2       California      United States  Odocoileus hemionus californicus   \n",
       "3       California      United States          Otospermophilus beecheyi   \n",
       "4       California      United States          Otospermophilus beecheyi   \n",
       "\n",
       "                  common_name iconic_taxon_name  \n",
       "0              American Bison          Mammalia  \n",
       "1         West Indian Manatee          Mammalia  \n",
       "2        California Mule Deer          Mammalia  \n",
       "3  California Ground Squirrel          Mammalia  \n",
       "4  California Ground Squirrel          Mammalia  "
      ]
     },
     "execution_count": 30,
     "metadata": {},
     "output_type": "execute_result"
    }
   ],
   "source": [
    "observation.head()"
   ]
  },
  {
   "cell_type": "markdown",
   "metadata": {},
   "source": [
    "1.) kings canyon and sequoia national park are adjacent, replace values with both afterward? this needs to be investigated more\n",
    "2.) goal here is to groupby park, year/month, species. Could also do groupby park and total, species\n",
    "3.) see bears 1 or 0, see bison 1 or 0. probably should do a threshold for no. of observations. this could be very wide with many species or I could do just a few charismatic megafauna\n"
   ]
  },
  {
   "cell_type": "code",
   "execution_count": null,
   "metadata": {},
   "outputs": [],
   "source": [
    "#kings canyon and sequoia national park are adjacent, replace values with both afterward? this needs to be investigated more"
   ]
  }
 ],
 "metadata": {
  "kernelspec": {
   "display_name": "Python 3",
   "language": "python",
   "name": "python3"
  },
  "language_info": {
   "codemirror_mode": {
    "name": "ipython",
    "version": 3
   },
   "file_extension": ".py",
   "mimetype": "text/x-python",
   "name": "python",
   "nbconvert_exporter": "python",
   "pygments_lexer": "ipython3",
   "version": "3.8.5"
  }
 },
 "nbformat": 4,
 "nbformat_minor": 4
}
